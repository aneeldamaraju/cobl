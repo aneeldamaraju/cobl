{
 "cells": [
  {
   "cell_type": "code",
   "execution_count": 2,
   "metadata": {},
   "outputs": [],
   "source": [
    "from cobl import initialize_diffusion_model"
   ]
  },
  {
   "cell_type": "code",
   "execution_count": 4,
   "metadata": {},
   "outputs": [
    {
     "name": "stdout",
     "output_type": "stream",
     "text": [
      "Target Module: cobl.ddpm.LatentDiffusion\n",
      "Setting up MemoryEfficientCrossAttention. Query dim is 320, context_dim is None and using 5 heads.\n",
      "Setting up MemoryEfficientCrossAttention. Query dim is 320, context_dim is 1024 and using 5 heads.\n",
      "Setting up MemoryEfficientCrossAttention. Query dim is 320, context_dim is None and using 5 heads.\n",
      "Setting up MemoryEfficientCrossAttention. Query dim is 320, context_dim is 1024 and using 5 heads.\n",
      "Setting up MemoryEfficientCrossAttention. Query dim is 640, context_dim is None and using 10 heads.\n",
      "Setting up MemoryEfficientCrossAttention. Query dim is 640, context_dim is 1024 and using 10 heads.\n",
      "Setting up MemoryEfficientCrossAttention. Query dim is 640, context_dim is None and using 10 heads.\n",
      "Setting up MemoryEfficientCrossAttention. Query dim is 640, context_dim is 1024 and using 10 heads.\n",
      "Setting up MemoryEfficientCrossAttention. Query dim is 1280, context_dim is None and using 20 heads.\n",
      "Setting up MemoryEfficientCrossAttention. Query dim is 1280, context_dim is 1024 and using 20 heads.\n",
      "Setting up MemoryEfficientCrossAttention. Query dim is 1280, context_dim is None and using 20 heads.\n",
      "Setting up MemoryEfficientCrossAttention. Query dim is 1280, context_dim is 1024 and using 20 heads.\n",
      "Setting up MemoryEfficientCrossAttention. Query dim is 1280, context_dim is None and using 20 heads.\n",
      "Setting up MemoryEfficientCrossAttention. Query dim is 1280, context_dim is 1024 and using 20 heads.\n",
      "Setting up MemoryEfficientCrossAttention. Query dim is 1280, context_dim is None and using 20 heads.\n",
      "Setting up MemoryEfficientCrossAttention. Query dim is 1280, context_dim is 1024 and using 20 heads.\n",
      "Setting up MemoryEfficientCrossAttention. Query dim is 1280, context_dim is None and using 20 heads.\n",
      "Setting up MemoryEfficientCrossAttention. Query dim is 1280, context_dim is 1024 and using 20 heads.\n",
      "Setting up MemoryEfficientCrossAttention. Query dim is 1280, context_dim is None and using 20 heads.\n",
      "Setting up MemoryEfficientCrossAttention. Query dim is 1280, context_dim is 1024 and using 20 heads.\n",
      "Setting up MemoryEfficientCrossAttention. Query dim is 640, context_dim is None and using 10 heads.\n",
      "Setting up MemoryEfficientCrossAttention. Query dim is 640, context_dim is 1024 and using 10 heads.\n",
      "Setting up MemoryEfficientCrossAttention. Query dim is 640, context_dim is None and using 10 heads.\n",
      "Setting up MemoryEfficientCrossAttention. Query dim is 640, context_dim is 1024 and using 10 heads.\n",
      "Setting up MemoryEfficientCrossAttention. Query dim is 640, context_dim is None and using 10 heads.\n",
      "Setting up MemoryEfficientCrossAttention. Query dim is 640, context_dim is 1024 and using 10 heads.\n",
      "Setting up MemoryEfficientCrossAttention. Query dim is 320, context_dim is None and using 5 heads.\n",
      "Setting up MemoryEfficientCrossAttention. Query dim is 320, context_dim is 1024 and using 5 heads.\n",
      "Setting up MemoryEfficientCrossAttention. Query dim is 320, context_dim is None and using 5 heads.\n",
      "Setting up MemoryEfficientCrossAttention. Query dim is 320, context_dim is 1024 and using 5 heads.\n",
      "Setting up MemoryEfficientCrossAttention. Query dim is 320, context_dim is None and using 5 heads.\n",
      "Setting up MemoryEfficientCrossAttention. Query dim is 320, context_dim is 1024 and using 5 heads.\n",
      "/home/deanhazineh/ssd4tb_mounted/cobl/cobl/LDM/SD2p1/v2-1_512-ema-pruned.ckpt\n",
      "Target: cobl.UNet.UNetModel Loading from checkpoint /home/deanhazineh/ssd4tb_mounted/cobl/cobl/LDM/SD2p1/v2-1_512-ema-pruned.ckpt as strict=False with prefix=model.diffusion_model.\n",
      "Restored cobl.UNet.UNetModel with 303 missing and 0 unexpected keys\n",
      " Adding Conditional block:  cobl.LDM.encoders.FrozenOpenCLIPEmbedder\n",
      "/home/deanhazineh/ssd4tb_mounted/cobl/cobl/LDM/SD2p1/v2-1_512-ema-pruned.ckpt\n",
      "Target: cobl.LDM.encoders.FrozenOpenCLIPEmbedder Loading from checkpoint /home/deanhazineh/ssd4tb_mounted/cobl/cobl/LDM/SD2p1/v2-1_512-ema-pruned.ckpt as strict=False with prefix=cond_stage_model.\n",
      "Restored cobl.LDM.encoders.FrozenOpenCLIPEmbedder with 0 missing and 0 unexpected keys\n",
      " Adding Conditional block:  diffusers.models.adapter.T2IAdapter\n",
      "None\n",
      " Adding Conditional block:  diffusers.models.adapter.T2IAdapter\n",
      "None\n",
      "making attention of type 'vanilla-xformers' with 512 in_channels\n",
      "building MemoryEfficientAttnBlock with 512 in_channels...\n",
      "Working with z of shape (1, 4, 32, 32) = 4096 dimensions.\n",
      "making attention of type 'vanilla-xformers' with 512 in_channels\n",
      "building MemoryEfficientAttnBlock with 512 in_channels...\n",
      "/home/deanhazineh/ssd4tb_mounted/cobl/cobl/LDM/SD2p1/v2-1_512-ema-pruned.ckpt\n",
      "Target: cobl.LDM.autoencoder.AutoencoderKL Loading from checkpoint /home/deanhazineh/ssd4tb_mounted/cobl/cobl/LDM/SD2p1/v2-1_512-ema-pruned.ckpt as strict=False with prefix=first_stage_model.\n",
      "Restored cobl.LDM.autoencoder.AutoencoderKL with 0 missing and 0 unexpected keys\n",
      "None\n",
      "Loading from checkpoint /home/deanhazineh/ssd4tb_mounted/cobl/cobl/model_v5/cobl_added_params.ckpt\n"
     ]
    }
   ],
   "source": [
    "ckpt_path = \"cobl/model_v5/cobl_added_params.ckpt\"\n",
    "model = initialize_diffusion_model(\"cobl/model_v5/config.yaml\", ckpt_path)"
   ]
  },
  {
   "cell_type": "code",
   "execution_count": null,
   "metadata": {},
   "outputs": [],
   "source": [
    "# Add the sampling code"
   ]
  },
  {
   "cell_type": "markdown",
   "metadata": {},
   "source": [
    "# Training"
   ]
  },
  {
   "cell_type": "code",
   "execution_count": null,
   "metadata": {},
   "outputs": [],
   "source": [
    "from cobl import initialize_training\n",
    "trainer = initialize_training(\"cobl/model_v5/config.yaml\", override_eager=False)\n",
    "batch = next(iter(trainer.train_dataloader))\n",
    "trainer.plot_drawn_samples(batch, \"test.png\")\n",
    "trainer.fit()"
   ]
  },
  {
   "cell_type": "code",
   "execution_count": null,
   "metadata": {},
   "outputs": [
    {
     "name": "stderr",
     "output_type": "stream",
     "text": [
      "/home/deanhazineh/.local/lib/python3.10/site-packages/tqdm/auto.py:21: TqdmWarning: IProgress not found. Please update jupyter and ipywidgets. See https://ipywidgets.readthedocs.io/en/stable/user_install.html\n",
      "  from .autonotebook import tqdm as notebook_tqdm\n"
     ]
    }
   ],
   "source": [
    "# Reduce the checkpoint size by keeping only the added parameters\n",
    "from cobl.load_utils import extract_missing_checkpoint_params\n",
    "sd_ckpt_path = \"cobl/LDM/SD2p1/v2-1_512-ema-pruned.ckpt\"\n",
    "cobl_ckpt_path = \"cobl/model_v5/model_snapshots/ckpt_last.ckpt\"\n",
    "save_path = \"cobl/model_v5/cobl_add_params.ckpt\""
   ]
  }
 ],
 "metadata": {
  "kernelspec": {
   "display_name": "CoBL",
   "language": "python",
   "name": "python3"
  },
  "language_info": {
   "codemirror_mode": {
    "name": "ipython",
    "version": 3
   },
   "file_extension": ".py",
   "mimetype": "text/x-python",
   "name": "python",
   "nbconvert_exporter": "python",
   "pygments_lexer": "ipython3",
   "version": "3.10.18"
  }
 },
 "nbformat": 4,
 "nbformat_minor": 2
}
